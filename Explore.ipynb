{
 "cells": [
  {
   "cell_type": "code",
   "execution_count": 29,
   "id": "19edf137",
   "metadata": {},
   "outputs": [],
   "source": [
    "import pandas as pd\n",
    "import numpy as np\n",
    "import requests\n",
    "import time\n",
    "import json\n",
    "import ast"
   ]
  },
  {
   "cell_type": "code",
   "execution_count": 3,
   "id": "5cbdb8a2",
   "metadata": {},
   "outputs": [
    {
     "name": "stdout",
     "output_type": "stream",
     "text": [
      "seg\n",
      "seg\n",
      "seg\n",
      "seg\n"
     ]
    },
    {
     "data": {
      "text/plain": [
       "(28994, 23)"
      ]
     },
     "execution_count": 3,
     "metadata": {},
     "output_type": "execute_result"
    }
   ],
   "source": [
    "#Extraction\n",
    "tryto = \"https://www.balldontlie.io/api/v1/stats\"\n",
    "params = {\"seasons[]\":2020, \"postseason\":False, \"per_page\":100, \"page\": 1}\n",
    "first = requests.request(\"GET\", tryto, params=params)\n",
    "runs = first.json()[\"meta\"][\"total_pages\"]\n",
    "df = pd.DataFrame()\n",
    "for i in range(1, runs+1):\n",
    "    params[\"page\"] = i\n",
    "    temp = requests.request(\"GET\", tryto, params=params)\n",
    "    data = temp.json()[\"data\"]\n",
    "    df = df.append(data)\n",
    "    if i%59 == 0:\n",
    "        print(\"seg\")\n",
    "        time.sleep(60)\n",
    "df.shape\n"
   ]
  },
  {
   "cell_type": "code",
   "execution_count": 6,
   "id": "e8e61b47",
   "metadata": {},
   "outputs": [],
   "source": [
    "df.to_csv(\"unclean.csv\")   "
   ]
  },
  {
   "cell_type": "code",
   "execution_count": 3,
   "id": "5ec52c9f",
   "metadata": {},
   "outputs": [],
   "source": [
    "current = pd.read_csv(\"unclean.csv\")"
   ]
  },
  {
   "cell_type": "code",
   "execution_count": 37,
   "id": "cf50beff",
   "metadata": {},
   "outputs": [],
   "source": [
    "game = pd.DataFrame(list(current.game.apply(ast.literal_eval)))\n",
    "game.head()\n",
    "current[[\"home_score\", \"vis_score\", \"home_tid\", \"vis_tid\"]] = game[[\"home_team_score\", \"visitor_team_score\", \"home_team_id\", \"visitor_team_id\"]]"
   ]
  },
  {
   "cell_type": "code",
   "execution_count": 54,
   "id": "26b88cf0",
   "metadata": {},
   "outputs": [],
   "source": [
    "player = pd.DataFrame(list(current.player.apply(ast.literal_eval)))\n",
    "player.head()\n",
    "player[\"fullname\"] = player[\"first_name\"] + \" \" + player[\"last_name\"]\n",
    "# pd.DataFrame(list(current.player.head().apply(ast.literal_eval)))\n",
    "current[[\"name\", \"pid\", \"position\", \"ptid\"]] = player[[\"fullname\", \"id\", \"position\", \"team_id\"]]"
   ]
  },
  {
   "cell_type": "code",
   "execution_count": 59,
   "id": "88ca5aba",
   "metadata": {},
   "outputs": [],
   "source": [
    "team = pd.DataFrame(list(current.team.apply(ast.literal_eval)))\n",
    "team.head()\n",
    "current[[\"conf\", \"tname\"]] = team[[\"conference\", \"abbreviation\"]]"
   ]
  },
  {
   "cell_type": "code",
   "execution_count": 62,
   "id": "975056db",
   "metadata": {},
   "outputs": [],
   "source": [
    "# current = current.drop([\"game\", \"player\", \"team\", \"Unnamed: 0\"], axis = 1)"
   ]
  }
 ],
 "metadata": {
  "kernelspec": {
   "display_name": "Python 3",
   "language": "python",
   "name": "python3"
  },
  "language_info": {
   "codemirror_mode": {
    "name": "ipython",
    "version": 3
   },
   "file_extension": ".py",
   "mimetype": "text/x-python",
   "name": "python",
   "nbconvert_exporter": "python",
   "pygments_lexer": "ipython3",
   "version": "3.10.0"
  }
 },
 "nbformat": 4,
 "nbformat_minor": 5
}
