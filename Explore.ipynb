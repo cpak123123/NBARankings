{
 "cells": [
  {
   "cell_type": "code",
   "execution_count": 29,
   "id": "19edf137",
   "metadata": {},
   "outputs": [],
   "source": [
    "import pandas as pd\n",
    "import numpy as np\n",
    "import requests\n",
    "import time\n",
    "import json\n",
    "import ast"
   ]
  },
  {
   "cell_type": "code",
   "execution_count": 3,
   "id": "5cbdb8a2",
   "metadata": {},
   "outputs": [
    {
     "name": "stdout",
     "output_type": "stream",
     "text": [
      "seg\n",
      "seg\n",
      "seg\n",
      "seg\n"
     ]
    },
    {
     "data": {
      "text/plain": [
       "(28994, 23)"
      ]
     },
     "execution_count": 3,
     "metadata": {},
     "output_type": "execute_result"
    }
   ],
   "source": [
    "#Extraction\n",
    "tryto = \"https://www.balldontlie.io/api/v1/stats\"\n",
    "params = {\"seasons[]\":2020, \"postseason\":False, \"per_page\":100, \"page\": 1}\n",
    "first = requests.request(\"GET\", tryto, params=params)\n",
    "runs = first.json()[\"meta\"][\"total_pages\"]\n",
    "df = pd.DataFrame()\n",
    "for i in range(1, runs+1):\n",
    "    params[\"page\"] = i\n",
    "    temp = requests.request(\"GET\", tryto, params=params)\n",
    "    data = temp.json()[\"data\"]\n",
    "    df = df.append(data)\n",
    "    if i%59 == 0:\n",
    "        print(\"seg\")\n",
    "        time.sleep(60)\n",
    "df.shape\n"
   ]
  },
  {
   "cell_type": "code",
   "execution_count": 6,
   "id": "e8e61b47",
   "metadata": {},
   "outputs": [],
   "source": [
    "df.to_csv(\"unclean.csv\")   "
   ]
  },
  {
   "cell_type": "code",
   "execution_count": 3,
   "id": "5ec52c9f",
   "metadata": {},
   "outputs": [],
   "source": [
    "current = pd.read_csv(\"unclean.csv\")"
   ]
  },
  {
   "cell_type": "code",
   "execution_count": 31,
   "id": "cf50beff",
   "metadata": {},
   "outputs": [
    {
     "data": {
      "text/plain": [
       "0        {'id': 127502, 'date': '2020-12-22T00:00:00.00...\n",
       "1        {'id': 127502, 'date': '2020-12-22T00:00:00.00...\n",
       "2        {'id': 127502, 'date': '2020-12-22T00:00:00.00...\n",
       "3        {'id': 127502, 'date': '2020-12-22T00:00:00.00...\n",
       "4        {'id': 127502, 'date': '2020-12-22T00:00:00.00...\n",
       "                               ...                        \n",
       "28989    {'id': 422473, 'date': '2021-05-18T00:00:00.00...\n",
       "28990    {'id': 422473, 'date': '2021-05-18T00:00:00.00...\n",
       "28991    {'id': 422473, 'date': '2021-05-18T00:00:00.00...\n",
       "28992    {'id': 422473, 'date': '2021-05-18T00:00:00.00...\n",
       "28993    {'id': 422473, 'date': '2021-05-18T00:00:00.00...\n",
       "Name: game, Length: 28994, dtype: object"
      ]
     },
     "execution_count": 31,
     "metadata": {},
     "output_type": "execute_result"
    }
   ],
   "source": [
    "current.game.apply(ast.literal_eval)"
   ]
  }
 ],
 "metadata": {
  "kernelspec": {
   "display_name": "Python 3",
   "language": "python",
   "name": "python3"
  },
  "language_info": {
   "codemirror_mode": {
    "name": "ipython",
    "version": 3
   },
   "file_extension": ".py",
   "mimetype": "text/x-python",
   "name": "python",
   "nbconvert_exporter": "python",
   "pygments_lexer": "ipython3",
   "version": "3.10.0"
  }
 },
 "nbformat": 4,
 "nbformat_minor": 5
}
