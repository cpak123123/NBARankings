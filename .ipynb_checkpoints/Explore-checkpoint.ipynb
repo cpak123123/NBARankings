{
 "cells": [
  {
   "cell_type": "code",
   "execution_count": 3,
   "id": "19edf137",
   "metadata": {},
   "outputs": [],
   "source": [
    "import pandas as pd\n",
    "import numpy as np\n",
    "import requests"
   ]
  },
  {
   "cell_type": "code",
   "execution_count": 4,
   "id": "9d8e1ab6",
   "metadata": {},
   "outputs": [],
   "source": [
    "base = \"https://www.balldontlie.io/api/v1\"\n",
    "#Test, joel embiid 2020 season. \n",
    "embiid = requests.request(\"GET\", \"https://www.balldontlie.io/api/v1/stats?seasons=2020&player_ids=29\").json()\n",
    "df = pd.DataFrame(embiid[\"data\"])\n"
   ]
  },
  {
   "cell_type": "code",
   "execution_count": 14,
   "id": "8a2e7e85",
   "metadata": {},
   "outputs": [],
   "source": [
    "test = df.player\n"
   ]
  },
  {
   "cell_type": "code",
   "execution_count": null,
   "id": "b8c57e5e",
   "metadata": {},
   "outputs": [],
   "source": []
  },
  {
   "cell_type": "code",
   "execution_count": 10,
   "id": "8f9d8519",
   "metadata": {},
   "outputs": [
    {
     "data": {
      "text/plain": [
       "{'id': 415,\n",
       " 'first_name': 'Iman',\n",
       " 'height_feet': 6,\n",
       " 'height_inches': 5,\n",
       " 'last_name': 'Shumpert',\n",
       " 'position': 'G',\n",
       " 'team_id': 3,\n",
       " 'weight_pounds': 215}"
      ]
     },
     "execution_count": 10,
     "metadata": {},
     "output_type": "execute_result"
    }
   ],
   "source": [
    "df.player.head().iloc[0]"
   ]
  }
 ],
 "metadata": {
  "kernelspec": {
   "display_name": "Python 3",
   "language": "python",
   "name": "python3"
  },
  "language_info": {
   "codemirror_mode": {
    "name": "ipython",
    "version": 3
   },
   "file_extension": ".py",
   "mimetype": "text/x-python",
   "name": "python",
   "nbconvert_exporter": "python",
   "pygments_lexer": "ipython3",
   "version": "3.8.8"
  }
 },
 "nbformat": 4,
 "nbformat_minor": 5
}
